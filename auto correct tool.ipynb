{
 "cells": [
  {
   "cell_type": "code",
   "execution_count": 1,
   "id": "91bc837f",
   "metadata": {},
   "outputs": [
    {
     "name": "stdout",
     "output_type": "stream",
     "text": [
      "Collecting pyspellcheckerNote: you may need to restart the kernel to use updated packages.\n",
      "\n",
      "  Downloading pyspellchecker-0.7.2-py3-none-any.whl (3.4 MB)\n",
      "     ---------------------------------------- 0.0/3.4 MB ? eta -:--:--\n",
      "      --------------------------------------- 0.1/3.4 MB 1.5 MB/s eta 0:00:03\n",
      "     - -------------------------------------- 0.2/3.4 MB 1.6 MB/s eta 0:00:02\n",
      "     -- ------------------------------------- 0.2/3.4 MB 1.3 MB/s eta 0:00:03\n",
      "     --- ------------------------------------ 0.3/3.4 MB 1.5 MB/s eta 0:00:03\n",
      "     ---- ----------------------------------- 0.4/3.4 MB 1.5 MB/s eta 0:00:03\n",
      "     ----- ---------------------------------- 0.5/3.4 MB 1.6 MB/s eta 0:00:02\n",
      "     ------ --------------------------------- 0.6/3.4 MB 1.7 MB/s eta 0:00:02\n",
      "     ------- -------------------------------- 0.7/3.4 MB 1.7 MB/s eta 0:00:02\n",
      "     --------- ------------------------------ 0.8/3.4 MB 1.8 MB/s eta 0:00:02\n",
      "     ---------- ----------------------------- 0.9/3.4 MB 1.8 MB/s eta 0:00:02\n",
      "     ----------- ---------------------------- 1.0/3.4 MB 1.9 MB/s eta 0:00:02\n",
      "     ------------ --------------------------- 1.1/3.4 MB 2.0 MB/s eta 0:00:02\n",
      "     -------------- ------------------------- 1.2/3.4 MB 2.0 MB/s eta 0:00:02\n",
      "     --------------- ------------------------ 1.3/3.4 MB 2.0 MB/s eta 0:00:02\n",
      "     ---------------- ----------------------- 1.4/3.4 MB 2.0 MB/s eta 0:00:01\n",
      "     ----------------- ---------------------- 1.5/3.4 MB 2.0 MB/s eta 0:00:01\n",
      "     ------------------ --------------------- 1.6/3.4 MB 2.0 MB/s eta 0:00:01\n",
      "     ------------------- -------------------- 1.7/3.4 MB 2.0 MB/s eta 0:00:01\n",
      "     -------------------- ------------------- 1.7/3.4 MB 2.0 MB/s eta 0:00:01\n",
      "     --------------------- ------------------ 1.9/3.4 MB 2.0 MB/s eta 0:00:01\n",
      "     ---------------------- ----------------- 1.9/3.4 MB 2.0 MB/s eta 0:00:01\n",
      "     ---------------------- ----------------- 1.9/3.4 MB 1.9 MB/s eta 0:00:01\n",
      "     ---------------------- ----------------- 2.0/3.4 MB 1.8 MB/s eta 0:00:01\n",
      "     ------------------------ --------------- 2.1/3.4 MB 1.8 MB/s eta 0:00:01\n",
      "     ------------------------- -------------- 2.2/3.4 MB 1.8 MB/s eta 0:00:01\n",
      "     -------------------------- ------------- 2.2/3.4 MB 1.7 MB/s eta 0:00:01\n",
      "     --------------------------- ------------ 2.4/3.4 MB 1.8 MB/s eta 0:00:01\n",
      "     ----------------------------- ---------- 2.5/3.4 MB 1.8 MB/s eta 0:00:01\n",
      "     ------------------------------- -------- 2.7/3.4 MB 1.9 MB/s eta 0:00:01\n",
      "     --------------------------------- ------ 2.9/3.4 MB 2.0 MB/s eta 0:00:01\n",
      "     ---------------------------------- ----- 3.0/3.4 MB 2.0 MB/s eta 0:00:01\n",
      "     ------------------------------------- -- 3.2/3.4 MB 2.0 MB/s eta 0:00:01\n",
      "     -------------------------------------- - 3.3/3.4 MB 2.1 MB/s eta 0:00:01\n",
      "     ---------------------------------------  3.4/3.4 MB 2.1 MB/s eta 0:00:01\n",
      "     ---------------------------------------  3.4/3.4 MB 2.1 MB/s eta 0:00:01\n",
      "     ---------------------------------------- 3.4/3.4 MB 2.0 MB/s eta 0:00:00\n",
      "Installing collected packages: pyspellchecker\n",
      "Successfully installed pyspellchecker-0.7.2\n"
     ]
    },
    {
     "name": "stderr",
     "output_type": "stream",
     "text": [
      "\n",
      "[notice] A new release of pip is available: 23.0.1 -> 23.2.1\n",
      "[notice] To update, run: python.exe -m pip install --upgrade pip\n"
     ]
    }
   ],
   "source": [
    "pip install pyspellchecker"
   ]
  },
  {
   "cell_type": "code",
   "execution_count": 2,
   "id": "e8a0d139",
   "metadata": {},
   "outputs": [],
   "source": [
    "from spellchecker import SpellChecker\n",
    "spell = SpellChecker()"
   ]
  },
  {
   "cell_type": "code",
   "execution_count": 3,
   "id": "0468b179",
   "metadata": {},
   "outputs": [
    {
     "name": "stdout",
     "output_type": "stream",
     "text": [
      "Enter the word to be correct:joby\n",
      "'job' is the correct or nearest word for needed\n"
     ]
    }
   ],
   "source": [
    "word = input(\"Enter the word to be correct:\")\n",
    "\n",
    "if word in spell:\n",
    "    print(\"'{}' is the correct word\".format(word))\n",
    "else:\n",
    "    corrected_word=spell.correction(word)\n",
    "    print(\"'{}' is the correct or nearest word for needed\".format(corrected_word))"
   ]
  },
  {
   "cell_type": "code",
   "execution_count": null,
   "id": "42c6d10e",
   "metadata": {},
   "outputs": [],
   "source": []
  }
 ],
 "metadata": {
  "kernelspec": {
   "display_name": "Python 3 (ipykernel)",
   "language": "python",
   "name": "python3"
  },
  "language_info": {
   "codemirror_mode": {
    "name": "ipython",
    "version": 3
   },
   "file_extension": ".py",
   "mimetype": "text/x-python",
   "name": "python",
   "nbconvert_exporter": "python",
   "pygments_lexer": "ipython3",
   "version": "3.10.11"
  }
 },
 "nbformat": 4,
 "nbformat_minor": 5
}
